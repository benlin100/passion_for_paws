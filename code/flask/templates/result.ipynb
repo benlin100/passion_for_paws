{
 "cells": [
  {
   "cell_type": "markdown",
   "metadata": {},
   "source": [
    "<html>\n",
    "<title>Animal-Prediction App</title>\n",
    "<body>\n",
    "<h3> This animal is in Section: {{ prediction }} </h3>\n",
    "<p><h4> [0] = Short </h4></p>\n",
    "<p><h4> [1] = Avergage </h4></p>\n",
    "<p><h4> [2] = Long </h4></p>\n",
    "\n",
    "</body>\n",
    "</html>"
   ]
  },
  {
   "cell_type": "code",
   "execution_count": null,
   "metadata": {},
   "outputs": [],
   "source": []
  }
 ],
 "metadata": {
  "kernelspec": {
   "display_name": "Python 3",
   "language": "python",
   "name": "python3"
  },
  "language_info": {
   "codemirror_mode": {
    "name": "ipython",
    "version": 3
   },
   "file_extension": ".py",
   "mimetype": "text/x-python",
   "name": "python",
   "nbconvert_exporter": "python",
   "pygments_lexer": "ipython3",
   "version": "3.6.0"
  }
 },
 "nbformat": 4,
 "nbformat_minor": 2
}
