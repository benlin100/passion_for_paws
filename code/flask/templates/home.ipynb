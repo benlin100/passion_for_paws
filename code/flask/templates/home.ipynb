{
 "cells": [
  {
   "cell_type": "markdown",
   "metadata": {},
   "source": [
    "<html>\n",
    "<title>Dog & Cat Adoption Predictor</title>\n",
    "<body>\n",
    "    \n",
    "<h1>Adoption Center Predictor</h1>   \n",
    "<p> <h2>Please fill in the following fields. For the yes or no questions, answer with (1 = yes) and (0 = no). Note that only some sections are only specific to dogs / cats.</h2> </p>  \n",
    "     \n",
    "      \n",
    "<form action = \"/getdelay\" method=\"POST\">\n",
    "    <p> <p>\n",
    "    <b> [General Information]</b> \n",
    "\t<p> Dog?:<input name=\"animal_type_Dog\" type =\"text\" value=\"0\"/> </p>\n",
    "    <p> Age (in days): <input name=\"sqrt_age\" type =\"text\" value=\"0\" /> </p>\n",
    "\t<p> Public Assist?: <input name=\"intake_type_Public Assist\" type =\"text\" value=\"0\" /> </p>\n",
    "    <p> Stray?: <input name=\"intake_type_Stray\" type =\"text\" value=\"0\" /> </p>\n",
    "    <p> Fixed?: <input name=\"Intake_Neutered_Neutered\" type =\"text\" value=\"0\" /> </p> \n",
    "    <p> Male?: <input name=\"Intake_Sex_Male\" type =\"text\" value=\"0\" /> </p>   \n",
    "    <p> <p>\n",
    "    <b> [Color - pick all that apply]</b>  \n",
    "\t<p> White?:<input name=\"col_White\" type =\"text\" value=\"0\" /> </p>\n",
    "\t<p> Black?: <input name=\"col_Black\" type =\"text\" value=\"0\" /> </p>\n",
    "    <p> Grey?: <input name=\"col_Grey\" type =\"text\" value=\"0\" /> </p>\n",
    "    <p> Yellow?: <input name=\"col_Yellow\" type =\"text\" value=\"0\" /> </p>\n",
    "    <p> Red?: <input name=\"col_Red\" type =\"text\" value=\"0\" /> </p>\n",
    "    <p> Blue?: <input name=\"col_Blue\" type =\"text\" value=\"0\" /> </p>\n",
    "    <p> Tricolor?: <input name=\"col_Tricolor\" type =\"text\" value=\"0\" /> </p>\n",
    "    <p> Brown?: <input name=\"col_Brown\" type =\"text\" value=\"0\" /> </p>\n",
    "    <p> Orange?: <input name=\"col_Orange\" type =\"text\" value=\"0\" /> </p>  \n",
    "    <p> <p>\n",
    "    <b> [Dog Only]</b>\n",
    "    <p> <p>\n",
    "    <b> [Breed - Pick 1]</b>  \n",
    "    <p> Sporting breed?: <input name=\"breed_Sporting\" type =\"text\" value=\"0\" /> </p>\n",
    "    <p> Hound breed?: <input name=\"breed_Hound\" type =\"text\" value=\"0\" /> </p>\n",
    "    <p> Working breed?: <input name=\"breed_Working\" type =\"text\" value=\"0\" /> </p>\n",
    "    <p> Terrier breed?: <input name=\"breed_Terrier\" type =\"text\" value=\"0\" /> </p>\n",
    "    <p> Toy breed?: <input name=\"breed_Toy\" type =\"text\" value=\"0\" /> </p>\n",
    "    <p> Non_Sporting breed?: <input name=\"breed_Non_Sporting\" type =\"text\" value=\"0\" /> </p>\n",
    "    <p> Herding breed?: <input name=\"breed_Herding\" type =\"text\" value=\"0\" /> </p>  \n",
    "    <p> <p>\n",
    "    <b> [Cat Only]</b>\n",
    "    <p> <p>\n",
    "    <b> [Breed - Pick 1]</b>  \n",
    "    <p> Longhaired?: <input name=\"breed_Longhaired\" type =\"text\" value=\"0\" /> </p>\n",
    "    <p> Mediumhaired?: <input name=\"breed_Mediumhaired\" type =\"text\" value=\"0\" /> </p>\n",
    "    <p> Shorthaired?: <input name=\"breed_Shorthaired\" type =\"text\" value=\"0\" /> </p>\n",
    "\t<p> <input type =\"submit\" value=\"submit\" /> </p>\n",
    "</form>\n",
    "</body>\n",
    "</html>\n"
   ]
  },
  {
   "cell_type": "code",
   "execution_count": null,
   "metadata": {},
   "outputs": [],
   "source": []
  }
 ],
 "metadata": {
  "kernelspec": {
   "display_name": "Python 3",
   "language": "python",
   "name": "python3"
  },
  "language_info": {
   "codemirror_mode": {
    "name": "ipython",
    "version": 3
   },
   "file_extension": ".py",
   "mimetype": "text/x-python",
   "name": "python",
   "nbconvert_exporter": "python",
   "pygments_lexer": "ipython3",
   "version": "3.6.0"
  }
 },
 "nbformat": 4,
 "nbformat_minor": 2
}
